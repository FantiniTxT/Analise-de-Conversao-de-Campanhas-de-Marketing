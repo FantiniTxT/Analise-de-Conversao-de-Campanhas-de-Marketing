{
 "cells": [
  {
   "cell_type": "code",
   "execution_count": 2,
   "metadata": {},
   "outputs": [],
   "source": [
    "# Dicionário de dados\n",
    "dados_marketing = {\n",
    "    \"E-mail\": {\"visitas\": 5000, \"conversoes\": 400},\n",
    "    \"Redes Sociais\": {\"visitas\": 8000, \"conversoes\": 480},\n",
    "    \"Anúncios Pagos\": {\"visitas\": 12000, \"conversoes\": 720},\n",
    "    \"SEO\": {\"visitas\": 15000, \"conversoes\": 600},\n",
    "    \"YouTube Ads\": {\"visitas\": 9000, \"conversoes\": 450},\n",
    "    \"Google Ads\": {\"visitas\": 11000, \"conversoes\": 700},\n",
    "    \"TikTok Ads\": {\"visitas\": 7000, \"conversoes\": 350},\n",
    "    \"Influenciadores\": {\"visitas\": 10000, \"conversoes\": 300},\n",
    "    \"Blog\": {\"visitas\": 14000, \"conversoes\": 560},\n",
    "    \"LinkedIn Ads\": {\"visitas\": 6000, \"conversoes\": 300},\n",
    "    \"WhatsApp Marketing\": {\"visitas\": 4000, \"conversoes\": 280},\n",
    "    \"SMS Marketing\": {\"visitas\": 3000, \"conversoes\": 180},\n",
    "    \"Eventos\": {\"visitas\": 2000, \"conversoes\": 250}\n",
    "}"
   ]
  },
  {
   "cell_type": "markdown",
   "metadata": {},
   "source": [
    "### Análise de Conversão de Campanhas de Marketing"
   ]
  },
  {
   "cell_type": "code",
   "execution_count": 3,
   "metadata": {},
   "outputs": [
    {
     "name": "stdout",
     "output_type": "stream",
     "text": [
      "Taxa de conversão por canal:\n",
      "- E-mail: 8.00%\n",
      "- Redes Sociais: 6.00%\n",
      "- Anúncios Pagos: 6.00%\n",
      "- SEO: 4.00%\n",
      "- YouTube Ads: 5.00%\n",
      "- Google Ads: 6.36%\n",
      "- TikTok Ads: 5.00%\n",
      "- Influenciadores: 3.00%\n",
      "- Blog: 4.00%\n",
      "- LinkedIn Ads: 5.00%\n",
      "- WhatsApp Marketing: 7.00%\n",
      "- SMS Marketing: 6.00%\n",
      "- Eventos: 12.50%\n",
      "\n",
      "Canal com maior taxa de conversão: Eventos (12.50%)\n",
      "Canal com menor taxa de conversão: Influenciadores (3.00%)\n"
     ]
    }
   ],
   "source": [
    "# Cria lista para armazenar dados convertidos\n",
    "taxas = []\n",
    "\n",
    "# Converte dados\n",
    "print(\"Taxa de conversão por canal:\")\n",
    "for dado in dados_marketing :\n",
    "    # Obtém de dados\n",
    "    conversoes = dados_marketing[dado]['conversoes']\n",
    "    visitas = dados_marketing[dado]['visitas']\n",
    "    # Realiza cálculo\n",
    "    taxa_conversao = round((conversoes/visitas) * 100, 2)\n",
    "    # Mostra resultados\n",
    "    print(f\"- {dado}: {taxa_conversao:,.2f}%\")\n",
    "\n",
    "    # Adiciona dados na lista\n",
    "    infos = {\"nome\" : dado, \"taxa\" : taxa_conversao}\n",
    "    taxas.append(infos)\n",
    "\n",
    "\n",
    "# Descobre maior e menor taxa\n",
    "maior_taxa = 0\n",
    "menor_taxa = 100\n",
    "for item in range(len(taxas)) :\n",
    "    valor_taxa = taxas[item]['taxa']\n",
    "    if valor_taxa >= maior_taxa :\n",
    "        maior_taxa = valor_taxa\n",
    "        index_maior = taxas.index(taxas[item])\n",
    "    if valor_taxa <= menor_taxa :\n",
    "        menor_taxa = valor_taxa\n",
    "        index_menor = taxas.index(taxas[item])\n",
    "\n",
    "# Mostra maior e menor taxa\n",
    "print()\n",
    "print(f\"Canal com maior taxa de conversão: {taxas[index_maior]['nome']} ({maior_taxa:,.2f}%)\")\n",
    "print(f\"Canal com menor taxa de conversão: {taxas[index_menor]['nome']} ({menor_taxa:,.2f}%)\")"
   ]
  },
  {
   "cell_type": "markdown",
   "metadata": {},
   "source": [
    "### Classificação dos Canais de Marketing"
   ]
  },
  {
   "cell_type": "code",
   "execution_count": 4,
   "metadata": {},
   "outputs": [
    {
     "name": "stdout",
     "output_type": "stream",
     "text": [
      "Classificação dos Canais:\n",
      "- E-mail : Bom\n",
      "- Redes Sociais : Bom\n",
      "- Anúncios Pagos : Bom\n",
      "- SEO : Precisa melhorar\n",
      "- YouTube Ads : Bom\n",
      "- Google Ads : Bom\n",
      "- TikTok Ads : Bom\n",
      "- Influenciadores : Precisa melhorar\n",
      "- Blog : Precisa melhorar\n",
      "- LinkedIn Ads : Bom\n",
      "- WhatsApp Marketing : Bom\n",
      "- SMS Marketing : Bom\n",
      "- Eventos : Exelente\n"
     ]
    }
   ],
   "source": [
    "# Classificação dos canais\n",
    "print(\"Classificação dos Canais:\")\n",
    "for item in taxas :\n",
    "    if item['taxa'] > 10:\n",
    "        print(f\"- {item['nome']} : Exelente\")\n",
    "    elif 5 <= item['taxa'] <= 10:\n",
    "        print(f\"- {item['nome']} : Bom\")\n",
    "    else:\n",
    "        print(f\"- {item['nome']} : Precisa melhorar\")"
   ]
  },
  {
   "cell_type": "markdown",
   "metadata": {},
   "source": [
    "### Contagem de canais pertencentes a cada categoria"
   ]
  },
  {
   "cell_type": "code",
   "execution_count": 5,
   "metadata": {},
   "outputs": [
    {
     "name": "stdout",
     "output_type": "stream",
     "text": [
      "Resumo Final:\n",
      "- Excelente: 1\n",
      "- Bom: 9\n",
      "- Precisa melhorar: 3\n"
     ]
    }
   ],
   "source": [
    "# Inicializa variáveis\n",
    "excelente = 0\n",
    "bom = 0\n",
    "precisa_melhorar = 0\n",
    "\n",
    "# Conta dados de cada tipo\n",
    "for item in taxas :\n",
    "    if item['taxa'] > 10:\n",
    "        excelente += 1\n",
    "    elif 5 <= item['taxa'] <= 10:\n",
    "        bom += 1\n",
    "    else:\n",
    "        precisa_melhorar += 1\n",
    "\n",
    "# Mostra resultado\n",
    "print(\"Resumo Final:\")\n",
    "print(f\"- Excelente: {excelente}\")\n",
    "print(f\"- Bom: {bom}\")\n",
    "print(f\"- Precisa melhorar: {precisa_melhorar}\")"
   ]
  }
 ],
 "metadata": {
  "kernelspec": {
   "display_name": "base",
   "language": "python",
   "name": "python3"
  },
  "language_info": {
   "codemirror_mode": {
    "name": "ipython",
    "version": 3
   },
   "file_extension": ".py",
   "mimetype": "text/x-python",
   "name": "python",
   "nbconvert_exporter": "python",
   "pygments_lexer": "ipython3",
   "version": "3.12.7"
  }
 },
 "nbformat": 4,
 "nbformat_minor": 2
}
